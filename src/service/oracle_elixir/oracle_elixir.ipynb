{
 "cells": [
  {
   "cell_type": "code",
   "execution_count": 1,
   "metadata": {},
   "outputs": [],
   "source": [
    "import pandas as pd\n",
    "import os\n",
    "from sklearn.preprocessing import LabelEncoder"
   ]
  },
  {
   "cell_type": "code",
   "execution_count": 2,
   "metadata": {},
   "outputs": [],
   "source": [
    "\n",
    "# Função para processar e gerar os arquivos CSV\n",
    "def process_seasons(file_paths, season_number):\n",
    "    dtype_spec = {\n",
    "        'gameid': str,\n",
    "        'datacompleteness': str,\n",
    "        'url': str,\n",
    "        'league': str,\n",
    "        'teamname': str,\n",
    "        'result': float  # Colunas numéricas\n",
    "    }\n",
    "\n",
    "    # Ler e combinar os arquivos CSV em um único DataFrame se houver mais de um arquivo\n",
    "    df_list = [pd.read_csv(file_path, dtype=dtype_spec) for file_path in file_paths]\n",
    "    df = pd.concat(df_list, ignore_index=True)\n",
    "\n",
    "    leagues = ['CBLOL', 'LEC', 'LCK', 'LPL']  # Verificar estas ligas\n",
    "    all_matches = []\n",
    "\n",
    "    for league in leagues:\n",
    "        df_league = df[df['league'] == league]\n",
    "        if not df_league.empty:  # Somente processa se houver dados\n",
    "            matches = []\n",
    "\n",
    "            for gameid, group in df_league.groupby('gameid'):\n",
    "                # Separar as equipes por 'side'\n",
    "                team1 = group[group['side'] == 'Blue']\n",
    "                team2 = group[group['side'] == 'Red']\n",
    "\n",
    "                # Verificar se ambos os lados estão presentes\n",
    "                if not team1.empty and not team2.empty:\n",
    "                    match = {\n",
    "                        'match_id': gameid,\n",
    "                        'team_1': team1['teamname'].values[0],\n",
    "                        'team_2': team2['teamname'].values[0],\n",
    "                        'league': team1['league'].values[0],\n",
    "                        'date': team1['date'].values[0],\n",
    "                        'winner': team1['teamname'].values[0] if team1['result'].values[0] == 1 else team2['teamname'].values[0]\n",
    "                    }\n",
    "                    matches.append(match)\n",
    "                    all_matches.append(match)\n",
    "\n",
    "            # Criar dataframe de partidas organizadas\n",
    "            matches_df = pd.DataFrame(matches)\n",
    "\n",
    "            # Definir a pasta de saída para a liga atual\n",
    "            output_folder = f\"../../repository/{league.lower()}/\"\n",
    "            output_file = os.path.join(output_folder, f\"{league}_matches_{season_number}.csv\")\n",
    "\n",
    "            if not os.path.exists(output_folder):\n",
    "                os.makedirs(output_folder)\n",
    "\n",
    "            if os.path.exists(output_file):\n",
    "                os.remove(output_file)\n",
    "\n",
    "            matches_df.to_csv(output_file, index=False)\n",
    "\n",
    "# Processar para um CSV (temporada única)\n",
    "file_paths_single_season = ['../../../data/2023_LoL_esports_match_data_from_OraclesElixir.csv']\n",
    "process_seasons(file_paths_single_season, \"2\")\n",
    "\n",
    "# Processar para dois CSVs (duas temporadas)\n",
    "file_paths_two_seasons = [\n",
    "    '../../../data/2023_LoL_esports_match_data_from_OraclesElixir.csv',\n",
    "    '../../../data/2022_LoL_esports_match_data_from_OraclesElixir.csv'\n",
    "]\n",
    "process_seasons(file_paths_two_seasons, \"4\")\n",
    "        \n",
    "    \n"
   ]
  }
 ],
 "metadata": {
  "kernelspec": {
   "display_name": "Python 3",
   "language": "python",
   "name": "python3"
  },
  "language_info": {
   "codemirror_mode": {
    "name": "ipython",
    "version": 3
   },
   "file_extension": ".py",
   "mimetype": "text/x-python",
   "name": "python",
   "nbconvert_exporter": "python",
   "pygments_lexer": "ipython3",
   "version": "3.11.5 (tags/v3.11.5:cce6ba9, Aug 24 2023, 14:38:34) [MSC v.1936 64 bit (AMD64)]"
  },
  "orig_nbformat": 4,
  "vscode": {
   "interpreter": {
    "hash": "58fceea28ec99e201e3ba554873a08a499905b6af0fd1ffb5568286d93001ad4"
   }
  }
 },
 "nbformat": 4,
 "nbformat_minor": 2
}
