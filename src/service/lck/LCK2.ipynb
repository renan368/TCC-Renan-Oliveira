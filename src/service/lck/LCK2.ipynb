{
 "cells": [
  {
   "cell_type": "code",
   "execution_count": 1,
   "metadata": {},
   "outputs": [],
   "source": [
    "import pandas as pd\n",
    "import matplotlib.pyplot as plt\n",
    "from sklearn.preprocessing import LabelEncoder\n",
    "from sklearn.model_selection import train_test_split\n",
    "from sklearn.naive_bayes import GaussianNB\n",
    "from sklearn.metrics import accuracy_score\n",
    "from sklearn.linear_model import LogisticRegression\n",
    "from sklearn.svm import SVC\n",
    "from sklearn.tree import DecisionTreeClassifier\n"
   ]
  },
  {
   "cell_type": "code",
   "execution_count": 2,
   "metadata": {},
   "outputs": [
    {
     "name": "stdout",
     "output_type": "stream",
     "text": [
      "Total de jogos: 488\n",
      "Vitórias do time 1 (team_1): 250\n",
      "Vitórias do time 2 (team_2): 238\n",
      "Percentual de vitórias do lado azul: 51.23%\n"
     ]
    },
    {
     "data": {
      "image/png": "[encoded data removed]",
      "text/plain": [
       "<Figure size 640x480 with 1 Axes>"
      ]
     },
     "metadata": {},
     "output_type": "display_data"
    }
   ],
   "source": [
    "file_path = '../../repository/lck/LCK_matches_2.csv'\n",
    "\n",
    "# Carregar os dados organizados\n",
    "df = pd.read_csv(file_path)\n",
    "\n",
    "# Total de jogos\n",
    "total_matches = df.shape[0]\n",
    "\n",
    "# Contagem de vitórias\n",
    "team_1_wins = (df['winner'] == df['team_1']).sum()\n",
    "team_2_wins = (df['winner'] == df['team_2']).sum()\n",
    "\n",
    "\n",
    "# Lista de valores para os times e seus resultados\n",
    "win_counts = [team_1_wins, team_2_wins]\n",
    "\n",
    "# Cálculo da porcentagem de vitórias do time 1\n",
    "team_1_win_rate = (team_1_wins / total_matches) * 100\n",
    "\n",
    "# Exibir estatísticas\n",
    "print(\"Total de jogos:\", total_matches)\n",
    "print(\"Vitórias do time 1 (team_1):\", team_1_wins)\n",
    "print(\"Vitórias do time 2 (team_2):\", team_2_wins)\n",
    "print(f\"Percentual de vitórias do lado azul: {team_1_win_rate:.2f}%\")\n",
    "\n",
    "# Criar gráfico de barras\n",
    "x = ['Team 1 Wins', 'Team 2 Wins']\n",
    "y = win_counts\n",
    "\n",
    "plt.bar(x, y, color=['blue', 'red'])\n",
    "plt.xlabel('Resultado')\n",
    "plt.ylabel('Número de Jogos')\n",
    "plt.title('Resultados das Partidas de League of Legends')\n",
    "plt.show()\n"
   ]
  },
  {
   "cell_type": "code",
   "execution_count": 3,
   "metadata": {},
   "outputs": [],
   "source": [
    "matches_df = pd.read_csv(file_path)\n",
    "# Encode team names and league\n",
    "le_team = LabelEncoder()\n",
    "le_league = LabelEncoder()\n",
    "\n",
    "matches_df['team_1_encoded'] = le_team.fit_transform(matches_df['team_1'])\n",
    "matches_df['team_2_encoded'] = le_team.fit_transform(matches_df['team_2'])\n",
    "matches_df['league_encoded'] = le_league.fit_transform(matches_df['league'])\n",
    "\n",
    "# Features: team names and league\n",
    "X = matches_df[['team_1_encoded', 'team_2_encoded', 'league_encoded']]\n",
    "\n",
    "# Target: winner (encoded as 0 or 1 based on whether team_1 is the winner)\n",
    "y = (matches_df['winner'] == matches_df['team_1']).astype(int)\n"
   ]
  },
  {
   "cell_type": "code",
   "execution_count": 4,
   "metadata": {},
   "outputs": [
    {
     "name": "stdout",
     "output_type": "stream",
     "text": [
      "Acurácia do modelo de Naive Bayes: 53.74%\n"
     ]
    }
   ],
   "source": [
    "X_train, X_test, y_train, y_test = train_test_split(X, y, test_size=0.3, random_state=42)\n",
    "\n",
    "# Criar o modelo Naive Bayes\n",
    "model = GaussianNB()\n",
    "\n",
    "# Treinar o modelo\n",
    "model.fit(X_train, y_train)\n",
    "\n",
    "# Fazer previsões\n",
    "y_pred = model.predict(X_test)\n",
    "\n",
    "# Calcular a acurácia\n",
    "accuracy = accuracy_score(y_test, y_pred)\n",
    "print(f'Acurácia do modelo de Naive Bayes: {accuracy * 100:.2f}%')"
   ]
  },
  {
   "cell_type": "code",
   "execution_count": 5,
   "metadata": {},
   "outputs": [
    {
     "name": "stdout",
     "output_type": "stream",
     "text": [
      "Acurácia do modelo de Regressão Logística: 54.42%\n"
     ]
    }
   ],
   "source": [
    "# Criar o modelo de Regressão Logística\n",
    "logistic_model = LogisticRegression()\n",
    "\n",
    "# Treinar o modelo\n",
    "logistic_model.fit(X_train, y_train)\n",
    "\n",
    "# Fazer previsões\n",
    "y_pred_logistic = logistic_model.predict(X_test)\n",
    "\n",
    "# Calcular a acurácia\n",
    "accuracy_logistic = accuracy_score(y_test, y_pred_logistic)\n",
    "print(f'Acurácia do modelo de Regressão Logística: {accuracy_logistic * 100:.2f}%')"
   ]
  },
  {
   "cell_type": "code",
   "execution_count": 6,
   "metadata": {},
   "outputs": [
    {
     "name": "stdout",
     "output_type": "stream",
     "text": [
      "Acurácia do modelo SVM: 59.18%\n"
     ]
    }
   ],
   "source": [
    "# Criar o modelo SVM\n",
    "svm_model = SVC()\n",
    "\n",
    "# Treinar o modelo SVM\n",
    "svm_model.fit(X_train, y_train)\n",
    "\n",
    "# Fazer previsões com o modelo SVM\n",
    "y_pred_svm = svm_model.predict(X_test)\n",
    "\n",
    "# Calcular a acurácia\n",
    "accuracy_svm = accuracy_score(y_test, y_pred_svm)\n",
    "print(f'Acurácia do modelo SVM: {accuracy_svm * 100:.2f}%')"
   ]
  },
  {
   "cell_type": "code",
   "execution_count": 7,
   "metadata": {},
   "outputs": [
    {
     "name": "stdout",
     "output_type": "stream",
     "text": [
      "Acurácia do modelo de Árvore de Decisão: 65.99%\n"
     ]
    }
   ],
   "source": [
    "# Criar o modelo de Árvore de Decisão\n",
    "tree_model = DecisionTreeClassifier()\n",
    "\n",
    "# Treinar o modelo de Árvore de Decisão\n",
    "tree_model.fit(X_train, y_train)\n",
    "\n",
    "# Fazer previsões com o modelo de Árvore de Decisão\n",
    "y_pred_tree = tree_model.predict(X_test)\n",
    "\n",
    "# Calcular a acurácia\n",
    "accuracy_tree = accuracy_score(y_test, y_pred_tree)\n",
    "print(f'Acurácia do modelo de Árvore de Decisão: {accuracy_tree * 100:.2f}%')"
   ]
  }
 ],
 "metadata": {
  "kernelspec": {
   "display_name": "Python 3",
   "language": "python",
   "name": "python3"
  },
  "language_info": {
   "codemirror_mode": {
    "name": "ipython",
    "version": 3
   },
   "file_extension": ".py",
   "mimetype": "text/x-python",
   "name": "python",
   "nbconvert_exporter": "python",
   "pygments_lexer": "ipython3",
   "version": "3.11.5"
  },
  "orig_nbformat": 4,
  "vscode": {
   "interpreter": {
    "hash": "58fceea28ec99e201e3ba554873a08a499905b6af0fd1ffb5568286d93001ad4"
   }
  }
 },
 "nbformat": 4,
 "nbformat_minor": 2
}
